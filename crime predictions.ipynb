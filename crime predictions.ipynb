{
 "cells": [
  {
   "cell_type": "markdown",
   "metadata": {},
   "source": [
    "the **on_street_crime** file contains much unnecessary data, so we directly read the **reduced_crime** one, which is the one I have processed."
   ]
  },
  {
   "cell_type": "markdown",
   "metadata": {},
   "source": [
    "### Read the processed file"
   ]
  },
  {
   "cell_type": "code",
   "execution_count": 2,
   "metadata": {},
   "outputs": [],
   "source": [
    "import pandas as pd\n",
    "df_street_crime = pd.read_csv(\"./reduced_crime_data.csv\")"
   ]
  },
  {
   "cell_type": "markdown",
   "metadata": {},
   "source": [
    "how many pieces of data are attained?"
   ]
  },
  {
   "cell_type": "code",
   "execution_count": 3,
   "metadata": {},
   "outputs": [
    {
     "data": {
      "text/plain": [
       "395260"
      ]
     },
     "execution_count": 3,
     "metadata": {},
     "output_type": "execute_result"
    }
   ],
   "source": [
    "len(df_street_crime)"
   ]
  },
  {
   "cell_type": "markdown",
   "metadata": {},
   "source": [
    "testing the first 5 rows:"
   ]
  },
  {
   "cell_type": "code",
   "execution_count": 15,
   "metadata": {},
   "outputs": [
    {
     "data": {
      "text/html": [
       "<div>\n",
       "<style scoped>\n",
       "    .dataframe tbody tr th:only-of-type {\n",
       "        vertical-align: middle;\n",
       "    }\n",
       "\n",
       "    .dataframe tbody tr th {\n",
       "        vertical-align: top;\n",
       "    }\n",
       "\n",
       "    .dataframe thead th {\n",
       "        text-align: right;\n",
       "    }\n",
       "</style>\n",
       "<table border=\"1\" class=\"dataframe\">\n",
       "  <thead>\n",
       "    <tr style=\"text-align: right;\">\n",
       "      <th></th>\n",
       "      <th>Unnamed: 0</th>\n",
       "      <th>Category</th>\n",
       "      <th>Street ID</th>\n",
       "      <th>Street Name</th>\n",
       "      <th>Outcome Category</th>\n",
       "      <th>Outcome Date</th>\n",
       "      <th>Location</th>\n",
       "    </tr>\n",
       "  </thead>\n",
       "  <tbody>\n",
       "    <tr>\n",
       "      <th>0</th>\n",
       "      <td>0</td>\n",
       "      <td>Other theft</td>\n",
       "      <td>1489515</td>\n",
       "      <td>Kings Cross (station)</td>\n",
       "      <td>Status update unavailable</td>\n",
       "      <td>01/08/2017</td>\n",
       "      <td>(51.5318, -0.123189)</td>\n",
       "    </tr>\n",
       "    <tr>\n",
       "      <th>1</th>\n",
       "      <td>1</td>\n",
       "      <td>Anti-social behaviour</td>\n",
       "      <td>960522</td>\n",
       "      <td>On or near Wellesley Place</td>\n",
       "      <td>NaN</td>\n",
       "      <td>NaN</td>\n",
       "      <td>(51.528169, -0.131558)</td>\n",
       "    </tr>\n",
       "    <tr>\n",
       "      <th>2</th>\n",
       "      <td>2</td>\n",
       "      <td>Theft from the person</td>\n",
       "      <td>965233</td>\n",
       "      <td>On or near Avenue Road</td>\n",
       "      <td>Investigation complete; no suspect identified</td>\n",
       "      <td>01/08/2015</td>\n",
       "      <td>(51.542741, -0.174124)</td>\n",
       "    </tr>\n",
       "    <tr>\n",
       "      <th>3</th>\n",
       "      <td>3</td>\n",
       "      <td>Anti-social behaviour</td>\n",
       "      <td>960974</td>\n",
       "      <td>On or near Birkenhead Street</td>\n",
       "      <td>NaN</td>\n",
       "      <td>NaN</td>\n",
       "      <td>(51.529611, -0.121652)</td>\n",
       "    </tr>\n",
       "    <tr>\n",
       "      <th>4</th>\n",
       "      <td>4</td>\n",
       "      <td>Drugs</td>\n",
       "      <td>972275</td>\n",
       "      <td>On or near Oakeshott Avenue</td>\n",
       "      <td>Offender given a drugs possession warning</td>\n",
       "      <td>01/06/2015</td>\n",
       "      <td>(51.565544, -0.149851)</td>\n",
       "    </tr>\n",
       "  </tbody>\n",
       "</table>\n",
       "</div>"
      ],
      "text/plain": [
       "   Unnamed: 0               Category  Street ID                   Street Name  \\\n",
       "0           0            Other theft    1489515         Kings Cross (station)   \n",
       "1           1  Anti-social behaviour     960522    On or near Wellesley Place   \n",
       "2           2  Theft from the person     965233        On or near Avenue Road   \n",
       "3           3  Anti-social behaviour     960974  On or near Birkenhead Street   \n",
       "4           4                  Drugs     972275   On or near Oakeshott Avenue   \n",
       "\n",
       "                                Outcome Category Outcome Date  \\\n",
       "0                      Status update unavailable   01/08/2017   \n",
       "1                                            NaN          NaN   \n",
       "2  Investigation complete; no suspect identified   01/08/2015   \n",
       "3                                            NaN          NaN   \n",
       "4      Offender given a drugs possession warning   01/06/2015   \n",
       "\n",
       "                 Location  \n",
       "0    (51.5318, -0.123189)  \n",
       "1  (51.528169, -0.131558)  \n",
       "2  (51.542741, -0.174124)  \n",
       "3  (51.529611, -0.121652)  \n",
       "4  (51.565544, -0.149851)  "
      ]
     },
     "execution_count": 15,
     "metadata": {},
     "output_type": "execute_result"
    }
   ],
   "source": [
    "df_street_crime.head(5)"
   ]
  },
  {
   "cell_type": "markdown",
   "metadata": {},
   "source": [
    "### places where crimes are frequent"
   ]
  },
  {
   "cell_type": "code",
   "execution_count": 15,
   "metadata": {},
   "outputs": [
    {
     "name": "stdout",
     "output_type": "stream",
     "text": [
      "Street Name\n",
      "On or near Supermarket                            12999\n",
      "On or near Nightclub                              11806\n",
      "On or near Theatre/concert Hall                    9795\n",
      "On or near                                         9364\n",
      "On or near Parking Area                            8684\n",
      "On or near Shopping Area                           6666\n",
      "On or near Further/higher Educational Building     6582\n",
      "St Pancras International (station)                 5023\n",
      "On or near Pedestrian Subway                       4781\n",
      "On or near Camden High Street                      3892\n",
      "On or near Petrol Station                          3740\n",
      "On or near Hospital                                3641\n",
      "Kings Cross (station)                              3415\n",
      "On or near Conference/exhibition Centre            2967\n",
      "Euston (station)                                   2515\n",
      "Euston (lu Station)                                2062\n",
      "On or near Gray's Inn Road                         2048\n",
      "On or near Judd Street                             1707\n",
      "On or near St Chad's Street                        1684\n",
      "On or near Great Russell Street                    1620\n",
      "On or near Police Station                          1610\n",
      "On or near Russell Square                          1483\n",
      "On or near Granary Street                          1480\n",
      "On or near New Oxford Street                       1432\n",
      "On or near Goodge Street                           1430\n",
      "On or near Percy Street                            1418\n",
      "On or near Crestfield Street                       1409\n",
      "On or near West End Lane                           1401\n",
      "On or near Adelaide Road                           1309\n",
      "On or near Kingsgate Place                         1302\n",
      "On or near Goods Way                               1267\n",
      "On or near Tottenham Court Road                    1227\n",
      "On or near Mabledon Place                          1224\n",
      "On or near Euston Road                             1151\n",
      "Holborn (lu Station)                               1142\n",
      "On or near Inverness Street                        1136\n",
      "On or near Whitfield Place                         1132\n",
      "On or near Parker Mews                             1119\n",
      "On or near Raydon Street                           1113\n",
      "On or near Parkway                                 1097\n",
      "On or near Finchley Road                           1065\n",
      "On or near Jamestown Road                          1059\n",
      "On or near Bayham Street                           1055\n",
      "On or near Gate Street                             1047\n",
      "On or near Rowley Way                              1024\n",
      "On or near Harrington Square                       1007\n",
      "On or near Shaftesbury Avenue                       988\n",
      "On or near Belgrove Street                          984\n",
      "On or near King's Cross Road                        979\n",
      "On or near Marsden Street                           968\n",
      "Name: count, dtype: int64\n"
     ]
    }
   ],
   "source": [
    "frequency_counts = df_street_crime['Street Name'].value_counts()\n",
    "print(frequency_counts.head(50))"
   ]
  },
  {
   "cell_type": "code",
   "execution_count": 16,
   "metadata": {},
   "outputs": [
    {
     "name": "stdout",
     "output_type": "stream",
     "text": [
      "Category\n",
      "Anti-social behaviour           90885\n",
      "Violence and sexual offences    62841\n",
      "Other theft                     59957\n",
      "Theft from the person           42030\n",
      "Vehicle crime                   26550\n",
      "Burglary                        22595\n",
      "Public order                    19394\n",
      "Shoplifting                     15945\n",
      "Criminal damage and arson       14872\n",
      "Drugs                           13007\n",
      "Robbery                         12116\n",
      "Bicycle theft                   10806\n",
      "Other crime                      2361\n",
      "Possession of weapons            1901\n",
      "Name: count, dtype: int64\n"
     ]
    }
   ],
   "source": [
    "frequency_counts = df_street_crime['Category'].value_counts()\n",
    "print(frequency_counts.head(50))"
   ]
  },
  {
   "cell_type": "code",
   "execution_count": 5,
   "metadata": {},
   "outputs": [
    {
     "name": "stdout",
     "output_type": "stream",
     "text": [
      "Outcome Category\n",
      "Under investigation                                    137786\n",
      "Investigation complete; no suspect identified          103804\n",
      "Status update unavailable                               41088\n",
      "Awaiting court outcome                                   5894\n",
      "Local resolution                                         4244\n",
      "Court result unavailable                                 2411\n",
      "Offender given a caution                                 2396\n",
      "Offender given a drugs possession warning                2171\n",
      "Offender given penalty notice                            1290\n",
      "Offender sent to prison                                   619\n",
      "Offender fined                                            600\n",
      "Offender given community sentence                         555\n",
      "Defendant found not guilty                                468\n",
      "Offender given conditional discharge                      278\n",
      "Court case unable to proceed                              262\n",
      "Offender given suspended prison sentence                  241\n",
      "Unable to prosecute suspect                                60\n",
      "Offender otherwise dealt with                              57\n",
      "Offender ordered to pay compensation                       56\n",
      "Offender deprived of property                              32\n",
      "Defendant sent to Crown Court                              26\n",
      "Suspect charged as part of another case                    13\n",
      "Offender given absolute discharge                           8\n",
      "Further investigation is not in the public interest         7\n",
      "Action to be taken by another organisation                  5\n",
      "Formal action is not in the public interest                 4\n",
      "Name: count, dtype: int64\n"
     ]
    }
   ],
   "source": [
    "frequency_counts = df_street_crime['Outcome Category'].value_counts()\n",
    "print(frequency_counts.head(50))"
   ]
  }
 ],
 "metadata": {
  "kernelspec": {
   "display_name": "Python 3",
   "language": "python",
   "name": "python3"
  },
  "language_info": {
   "codemirror_mode": {
    "name": "ipython",
    "version": 3
   },
   "file_extension": ".py",
   "mimetype": "text/x-python",
   "name": "python",
   "nbconvert_exporter": "python",
   "pygments_lexer": "ipython3",
   "version": "3.10.6"
  }
 },
 "nbformat": 4,
 "nbformat_minor": 2
}
